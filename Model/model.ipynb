{
 "cells": [
  {
   "metadata": {
    "ExecuteTime": {
     "end_time": "2025-04-05T10:59:55.788405Z",
     "start_time": "2025-04-05T10:59:55.144953Z"
    }
   },
   "cell_type": "code",
   "source": "!pip install torch==1.12.1+cu113 torchvision==0.13.1+cu113 torchaudio==0.12.1 --extra-index-url https://download.pytorch.org/whl/cu113",
   "id": "3b3683bb65f70877",
   "outputs": [
    {
     "name": "stdout",
     "output_type": "stream",
     "text": [
      "Looking in indexes: https://pypi.org/simple, https://download.pytorch.org/whl/cu113\r\n",
      "Requirement already satisfied: torch==1.12.1+cu113 in /home/edione/PycharmProjects/JupyterProject/.venv/lib64/python3.10/site-packages (1.12.1+cu113)\r\n",
      "Requirement already satisfied: torchvision==0.13.1+cu113 in /home/edione/PycharmProjects/JupyterProject/.venv/lib64/python3.10/site-packages (0.13.1+cu113)\r\n",
      "Requirement already satisfied: torchaudio==0.12.1 in /home/edione/PycharmProjects/JupyterProject/.venv/lib64/python3.10/site-packages (0.12.1+cu113)\r\n",
      "Requirement already satisfied: typing-extensions in /home/edione/PycharmProjects/JupyterProject/.venv/lib/python3.10/site-packages (from torch==1.12.1+cu113) (4.13.1)\r\n",
      "Requirement already satisfied: numpy in /home/edione/PycharmProjects/JupyterProject/.venv/lib64/python3.10/site-packages (from torchvision==0.13.1+cu113) (2.1.2)\r\n",
      "Requirement already satisfied: requests in /home/edione/PycharmProjects/JupyterProject/.venv/lib/python3.10/site-packages (from torchvision==0.13.1+cu113) (2.32.3)\r\n",
      "Requirement already satisfied: pillow!=8.3.*,>=5.3.0 in /home/edione/PycharmProjects/JupyterProject/.venv/lib64/python3.10/site-packages (from torchvision==0.13.1+cu113) (11.0.0)\r\n",
      "Requirement already satisfied: charset-normalizer<4,>=2 in /home/edione/PycharmProjects/JupyterProject/.venv/lib64/python3.10/site-packages (from requests->torchvision==0.13.1+cu113) (3.4.1)\r\n",
      "Requirement already satisfied: idna<4,>=2.5 in /home/edione/PycharmProjects/JupyterProject/.venv/lib/python3.10/site-packages (from requests->torchvision==0.13.1+cu113) (3.10)\r\n",
      "Requirement already satisfied: urllib3<3,>=1.21.1 in /home/edione/PycharmProjects/JupyterProject/.venv/lib/python3.10/site-packages (from requests->torchvision==0.13.1+cu113) (2.3.0)\r\n",
      "Requirement already satisfied: certifi>=2017.4.17 in /home/edione/PycharmProjects/JupyterProject/.venv/lib/python3.10/site-packages (from requests->torchvision==0.13.1+cu113) (2025.1.31)\r\n"
     ]
    }
   ],
   "execution_count": 2
  },
  {
   "cell_type": "code",
   "id": "initial_id",
   "metadata": {
    "collapsed": true,
    "ExecuteTime": {
     "end_time": "2025-04-05T11:01:29.057592Z",
     "start_time": "2025-04-05T11:00:56.298633Z"
    }
   },
   "source": [
    "!pip install transformers\n",
    "!pip install tensorflow tf-keras\n",
    "\n",
    "from transformers import TFBertForSequenceClassification, BertTokenizer\n",
    "\n",
    "# Load the MedBERT model (example using Bio_ClinicalBERT)\n",
    "model_name = \"emilyalsentzer/Bio_ClinicalBERT\"  # Replace with MedBERT model if available\n",
    "tokenizer = BertTokenizer.from_pretrained(model_name)\n",
    "model = TFBertForSequenceClassification.from_pretrained(model_name, num_labels=2)  # Example for binary classification\n",
    "\n",
    "import tensorflow as tf\n",
    "\n",
    "# Example dataset (replace with your actual dataset)\n",
    "texts = [\"Patient shows symptoms of pneumonia.\", \"Patient has normal vitals.\"]\n",
    "labels = [1, 0]  # 1: disease present, 0: disease absent\n",
    "\n",
    "# Tokenize the text\n",
    "inputs = tokenizer(texts, padding=True, truncation=True, return_tensors=\"tf\", max_length=512)\n",
    "\n",
    "# Convert labels to a TensorFlow dataset format\n",
    "labels_tensor = tf.convert_to_tensor(labels)\n",
    "\n",
    "# Prepare dataset\n",
    "dataset = tf.data.Dataset.from_tensor_slices((dict(inputs), labels_tensor))\n",
    "dataset = dataset.batch(32)  # Set your batch size\n",
    "\n",
    "# Compile the model with an Adam optimizer\n",
    "model.compile(optimizer=tf.keras.optimizers.Adam(learning_rate=2e-5),\n",
    "              loss=tf.keras.losses.SparseCategoricalCrossentropy(from_logits=True),\n",
    "              metrics=['accuracy'])\n",
    "\n",
    "# Train the model\n",
    "history = model.fit(dataset, epochs=3)  # Adjust the number of epochs as needed\n",
    "\n",
    "# Evaluate the model\n",
    "loss, accuracy = model.evaluate(dataset)\n",
    "print(f\"Test Loss: {loss}, Test Accuracy: {accuracy}\")\n",
    "\n",
    "# Inference: Predict on new data\n",
    "new_texts = [\"The patient has difficulty breathing and high fever.\"]\n",
    "inputs = tokenizer(new_texts, padding=True, truncation=True, return_tensors=\"tf\", max_length=512)\n",
    "\n",
    "predictions = model.predict(inputs)\n",
    "print(predictions)  # These are the logits; you can use softmax to get probabilities\n",
    "\n",
    "###########################################\n",
    "\n",
    "from transformers import TFBertForSequenceClassification, BertTokenizer\n",
    "import tensorflow as tf\n",
    "\n",
    "# Load pre-trained MedBERT model (replace with actual model if necessary)\n",
    "model_name = \"emilyalsentzer/Bio_ClinicalBERT\"  # Use MedBERT model if available\n",
    "tokenizer = BertTokenizer.from_pretrained(model_name)\n",
    "model = TFBertForSequenceClassification.from_pretrained(model_name, num_labels=2)  # Binary classification\n",
    "\n",
    "# Sample text data (replace with real clinical data)\n",
    "texts = [\"Patient shows symptoms of pneumonia.\", \"Patient has normal vitals.\"]\n",
    "labels = [1, 0]  # 1: disease present, 0: disease absent\n",
    "\n",
    "# Tokenize the text\n",
    "inputs = tokenizer(texts, padding=True, truncation=True, return_tensors=\"tf\", max_length=512)\n",
    "\n",
    "# Convert labels to TensorFlow dataset format\n",
    "labels_tensor = tf.convert_to_tensor(labels)\n",
    "\n",
    "# Prepare TensorFlow dataset\n",
    "dataset = tf.data.Dataset.from_tensor_slices((dict(inputs), labels_tensor))\n",
    "dataset = dataset.batch(32)  # Set your batch size\n",
    "\n",
    "# Compile model\n",
    "model.compile(optimizer=tf.keras.optimizers.Adam(learning_rate=2e-5),\n",
    "              loss=tf.keras.losses.SparseCategoricalCrossentropy(from_logits=True),\n",
    "              metrics=['accuracy'])\n",
    "\n",
    "# Fine-tune model\n",
    "history = model.fit(dataset, epochs=3)  # Adjust epochs as necessary\n",
    "\n",
    "# Evaluate the model\n",
    "loss, accuracy = model.evaluate(dataset)\n",
    "print(f\"Test Loss: {loss}, Test Accuracy: {accuracy}\")\n",
    "\n",
    "# Predict on new data\n",
    "new_texts = [\"The patient has difficulty breathing and high fever.\"]\n",
    "inputs = tokenizer(new_texts, padding=True, truncation=True, return_tensors=\"tf\", max_length=512)\n",
    "\n",
    "predictions = model.predict(inputs)\n",
    "print(predictions)"
   ],
   "outputs": [
    {
     "name": "stdout",
     "output_type": "stream",
     "text": [
      "Requirement already satisfied: transformers in /home/edione/PycharmProjects/JupyterProject/.venv/lib/python3.10/site-packages (4.50.3)\r\n",
      "Requirement already satisfied: filelock in /home/edione/PycharmProjects/JupyterProject/.venv/lib/python3.10/site-packages (from transformers) (3.13.1)\r\n",
      "Requirement already satisfied: huggingface-hub<1.0,>=0.26.0 in /home/edione/PycharmProjects/JupyterProject/.venv/lib/python3.10/site-packages (from transformers) (0.30.1)\r\n",
      "Requirement already satisfied: numpy>=1.17 in /home/edione/PycharmProjects/JupyterProject/.venv/lib64/python3.10/site-packages (from transformers) (2.1.2)\r\n",
      "Requirement already satisfied: packaging>=20.0 in /home/edione/PycharmProjects/JupyterProject/.venv/lib/python3.10/site-packages (from transformers) (24.2)\r\n",
      "Requirement already satisfied: pyyaml>=5.1 in /home/edione/PycharmProjects/JupyterProject/.venv/lib64/python3.10/site-packages (from transformers) (6.0.2)\r\n",
      "Requirement already satisfied: regex!=2019.12.17 in /home/edione/PycharmProjects/JupyterProject/.venv/lib64/python3.10/site-packages (from transformers) (2024.11.6)\r\n",
      "Requirement already satisfied: requests in /home/edione/PycharmProjects/JupyterProject/.venv/lib/python3.10/site-packages (from transformers) (2.32.3)\r\n",
      "Requirement already satisfied: tokenizers<0.22,>=0.21 in /home/edione/PycharmProjects/JupyterProject/.venv/lib64/python3.10/site-packages (from transformers) (0.21.1)\r\n",
      "Requirement already satisfied: safetensors>=0.4.3 in /home/edione/PycharmProjects/JupyterProject/.venv/lib64/python3.10/site-packages (from transformers) (0.5.3)\r\n",
      "Requirement already satisfied: tqdm>=4.27 in /home/edione/PycharmProjects/JupyterProject/.venv/lib/python3.10/site-packages (from transformers) (4.67.1)\r\n",
      "Requirement already satisfied: fsspec>=2023.5.0 in /home/edione/PycharmProjects/JupyterProject/.venv/lib/python3.10/site-packages (from huggingface-hub<1.0,>=0.26.0->transformers) (2024.6.1)\r\n",
      "Requirement already satisfied: typing-extensions>=3.7.4.3 in /home/edione/PycharmProjects/JupyterProject/.venv/lib/python3.10/site-packages (from huggingface-hub<1.0,>=0.26.0->transformers) (4.13.1)\r\n",
      "Requirement already satisfied: charset-normalizer<4,>=2 in /home/edione/PycharmProjects/JupyterProject/.venv/lib64/python3.10/site-packages (from requests->transformers) (3.4.1)\r\n",
      "Requirement already satisfied: idna<4,>=2.5 in /home/edione/PycharmProjects/JupyterProject/.venv/lib/python3.10/site-packages (from requests->transformers) (3.10)\r\n",
      "Requirement already satisfied: urllib3<3,>=1.21.1 in /home/edione/PycharmProjects/JupyterProject/.venv/lib/python3.10/site-packages (from requests->transformers) (2.3.0)\r\n",
      "Requirement already satisfied: certifi>=2017.4.17 in /home/edione/PycharmProjects/JupyterProject/.venv/lib/python3.10/site-packages (from requests->transformers) (2025.1.31)\r\n",
      "Requirement already satisfied: tensorflow in /home/edione/PycharmProjects/JupyterProject/.venv/lib64/python3.10/site-packages (2.19.0)\r\n",
      "Requirement already satisfied: tf-keras in /home/edione/PycharmProjects/JupyterProject/.venv/lib/python3.10/site-packages (2.19.0)\r\n",
      "Requirement already satisfied: absl-py>=1.0.0 in /home/edione/PycharmProjects/JupyterProject/.venv/lib/python3.10/site-packages (from tensorflow) (2.2.2)\r\n",
      "Requirement already satisfied: astunparse>=1.6.0 in /home/edione/PycharmProjects/JupyterProject/.venv/lib/python3.10/site-packages (from tensorflow) (1.6.3)\r\n",
      "Requirement already satisfied: flatbuffers>=24.3.25 in /home/edione/PycharmProjects/JupyterProject/.venv/lib/python3.10/site-packages (from tensorflow) (25.2.10)\r\n",
      "Requirement already satisfied: gast!=0.5.0,!=0.5.1,!=0.5.2,>=0.2.1 in /home/edione/PycharmProjects/JupyterProject/.venv/lib/python3.10/site-packages (from tensorflow) (0.6.0)\r\n",
      "Requirement already satisfied: google-pasta>=0.1.1 in /home/edione/PycharmProjects/JupyterProject/.venv/lib/python3.10/site-packages (from tensorflow) (0.2.0)\r\n",
      "Requirement already satisfied: libclang>=13.0.0 in /home/edione/PycharmProjects/JupyterProject/.venv/lib/python3.10/site-packages (from tensorflow) (18.1.1)\r\n",
      "Requirement already satisfied: opt-einsum>=2.3.2 in /home/edione/PycharmProjects/JupyterProject/.venv/lib/python3.10/site-packages (from tensorflow) (3.4.0)\r\n",
      "Requirement already satisfied: packaging in /home/edione/PycharmProjects/JupyterProject/.venv/lib/python3.10/site-packages (from tensorflow) (24.2)\r\n",
      "Requirement already satisfied: protobuf!=4.21.0,!=4.21.1,!=4.21.2,!=4.21.3,!=4.21.4,!=4.21.5,<6.0.0dev,>=3.20.3 in /home/edione/PycharmProjects/JupyterProject/.venv/lib64/python3.10/site-packages (from tensorflow) (5.29.4)\r\n",
      "Requirement already satisfied: requests<3,>=2.21.0 in /home/edione/PycharmProjects/JupyterProject/.venv/lib/python3.10/site-packages (from tensorflow) (2.32.3)\r\n",
      "Requirement already satisfied: setuptools in /home/edione/PycharmProjects/JupyterProject/.venv/lib/python3.10/site-packages (from tensorflow) (68.2.0)\r\n",
      "Requirement already satisfied: six>=1.12.0 in /home/edione/PycharmProjects/JupyterProject/.venv/lib/python3.10/site-packages (from tensorflow) (1.17.0)\r\n",
      "Requirement already satisfied: termcolor>=1.1.0 in /home/edione/PycharmProjects/JupyterProject/.venv/lib/python3.10/site-packages (from tensorflow) (3.0.1)\r\n",
      "Requirement already satisfied: typing-extensions>=3.6.6 in /home/edione/PycharmProjects/JupyterProject/.venv/lib/python3.10/site-packages (from tensorflow) (4.13.1)\r\n",
      "Requirement already satisfied: wrapt>=1.11.0 in /home/edione/PycharmProjects/JupyterProject/.venv/lib64/python3.10/site-packages (from tensorflow) (1.17.2)\r\n",
      "Requirement already satisfied: grpcio<2.0,>=1.24.3 in /home/edione/PycharmProjects/JupyterProject/.venv/lib64/python3.10/site-packages (from tensorflow) (1.71.0)\r\n",
      "Requirement already satisfied: tensorboard~=2.19.0 in /home/edione/PycharmProjects/JupyterProject/.venv/lib/python3.10/site-packages (from tensorflow) (2.19.0)\r\n",
      "Requirement already satisfied: keras>=3.5.0 in /home/edione/PycharmProjects/JupyterProject/.venv/lib/python3.10/site-packages (from tensorflow) (3.9.2)\r\n",
      "Requirement already satisfied: numpy<2.2.0,>=1.26.0 in /home/edione/PycharmProjects/JupyterProject/.venv/lib64/python3.10/site-packages (from tensorflow) (2.1.2)\r\n",
      "Requirement already satisfied: h5py>=3.11.0 in /home/edione/PycharmProjects/JupyterProject/.venv/lib64/python3.10/site-packages (from tensorflow) (3.13.0)\r\n",
      "Requirement already satisfied: ml-dtypes<1.0.0,>=0.5.1 in /home/edione/PycharmProjects/JupyterProject/.venv/lib64/python3.10/site-packages (from tensorflow) (0.5.1)\r\n",
      "Requirement already satisfied: tensorflow-io-gcs-filesystem>=0.23.1 in /home/edione/PycharmProjects/JupyterProject/.venv/lib64/python3.10/site-packages (from tensorflow) (0.37.1)\r\n",
      "Requirement already satisfied: wheel<1.0,>=0.23.0 in /home/edione/PycharmProjects/JupyterProject/.venv/lib/python3.10/site-packages (from astunparse>=1.6.0->tensorflow) (0.41.2)\r\n",
      "Requirement already satisfied: rich in /home/edione/PycharmProjects/JupyterProject/.venv/lib/python3.10/site-packages (from keras>=3.5.0->tensorflow) (14.0.0)\r\n",
      "Requirement already satisfied: namex in /home/edione/PycharmProjects/JupyterProject/.venv/lib/python3.10/site-packages (from keras>=3.5.0->tensorflow) (0.0.8)\r\n",
      "Requirement already satisfied: optree in /home/edione/PycharmProjects/JupyterProject/.venv/lib64/python3.10/site-packages (from keras>=3.5.0->tensorflow) (0.14.1)\r\n",
      "Requirement already satisfied: charset-normalizer<4,>=2 in /home/edione/PycharmProjects/JupyterProject/.venv/lib64/python3.10/site-packages (from requests<3,>=2.21.0->tensorflow) (3.4.1)\r\n",
      "Requirement already satisfied: idna<4,>=2.5 in /home/edione/PycharmProjects/JupyterProject/.venv/lib/python3.10/site-packages (from requests<3,>=2.21.0->tensorflow) (3.10)\r\n",
      "Requirement already satisfied: urllib3<3,>=1.21.1 in /home/edione/PycharmProjects/JupyterProject/.venv/lib/python3.10/site-packages (from requests<3,>=2.21.0->tensorflow) (2.3.0)\r\n",
      "Requirement already satisfied: certifi>=2017.4.17 in /home/edione/PycharmProjects/JupyterProject/.venv/lib/python3.10/site-packages (from requests<3,>=2.21.0->tensorflow) (2025.1.31)\r\n",
      "Requirement already satisfied: markdown>=2.6.8 in /home/edione/PycharmProjects/JupyterProject/.venv/lib/python3.10/site-packages (from tensorboard~=2.19.0->tensorflow) (3.7)\r\n",
      "Requirement already satisfied: tensorboard-data-server<0.8.0,>=0.7.0 in /home/edione/PycharmProjects/JupyterProject/.venv/lib/python3.10/site-packages (from tensorboard~=2.19.0->tensorflow) (0.7.2)\r\n",
      "Requirement already satisfied: werkzeug>=1.0.1 in /home/edione/PycharmProjects/JupyterProject/.venv/lib/python3.10/site-packages (from tensorboard~=2.19.0->tensorflow) (3.1.3)\r\n",
      "Requirement already satisfied: MarkupSafe>=2.1.1 in /home/edione/PycharmProjects/JupyterProject/.venv/lib64/python3.10/site-packages (from werkzeug>=1.0.1->tensorboard~=2.19.0->tensorflow) (3.0.2)\r\n",
      "Requirement already satisfied: markdown-it-py>=2.2.0 in /home/edione/PycharmProjects/JupyterProject/.venv/lib/python3.10/site-packages (from rich->keras>=3.5.0->tensorflow) (3.0.0)\r\n",
      "Requirement already satisfied: pygments<3.0.0,>=2.13.0 in /home/edione/PycharmProjects/JupyterProject/.venv/lib/python3.10/site-packages (from rich->keras>=3.5.0->tensorflow) (2.19.1)\r\n",
      "Requirement already satisfied: mdurl~=0.1 in /home/edione/PycharmProjects/JupyterProject/.venv/lib/python3.10/site-packages (from markdown-it-py>=2.2.0->rich->keras>=3.5.0->tensorflow) (0.1.2)\r\n"
     ]
    },
    {
     "name": "stderr",
     "output_type": "stream",
     "text": [
      "All model checkpoint layers were used when initializing TFBertForSequenceClassification.\n",
      "\n",
      "Some layers of TFBertForSequenceClassification were not initialized from the model checkpoint at emilyalsentzer/Bio_ClinicalBERT and are newly initialized: ['classifier']\n",
      "You should probably TRAIN this model on a down-stream task to be able to use it for predictions and inference.\n"
     ]
    },
    {
     "name": "stdout",
     "output_type": "stream",
     "text": [
      "Epoch 1/3\n",
      "1/1 [==============================] - 11s 11s/step - loss: 1.1373 - accuracy: 0.5000\n",
      "Epoch 2/3\n",
      "1/1 [==============================] - 0s 431ms/step - loss: 0.8221 - accuracy: 0.5000\n",
      "Epoch 3/3\n",
      "1/1 [==============================] - 0s 436ms/step - loss: 0.5040 - accuracy: 0.5000\n",
      "1/1 [==============================] - 1s 1s/step - loss: 0.5391 - accuracy: 0.5000\n",
      "Test Loss: 0.5391342639923096, Test Accuracy: 0.5\n",
      "1/1 [==============================] - 2s 2s/step\n",
      "TFSequenceClassifierOutput(loss=None, logits=array([[-0.40965933,  0.04011925]], dtype=float32), hidden_states=None, attentions=None)\n"
     ]
    },
    {
     "name": "stderr",
     "output_type": "stream",
     "text": [
      "All model checkpoint layers were used when initializing TFBertForSequenceClassification.\n",
      "\n",
      "Some layers of TFBertForSequenceClassification were not initialized from the model checkpoint at emilyalsentzer/Bio_ClinicalBERT and are newly initialized: ['classifier']\n",
      "You should probably TRAIN this model on a down-stream task to be able to use it for predictions and inference.\n"
     ]
    },
    {
     "name": "stdout",
     "output_type": "stream",
     "text": [
      "Epoch 1/3\n",
      "1/1 [==============================] - 10s 10s/step - loss: 0.6306 - accuracy: 0.5000\n",
      "Epoch 2/3\n",
      "1/1 [==============================] - 0s 437ms/step - loss: 0.7017 - accuracy: 0.5000\n",
      "Epoch 3/3\n",
      "1/1 [==============================] - 0s 431ms/step - loss: 0.6788 - accuracy: 0.5000\n",
      "1/1 [==============================] - 1s 1s/step - loss: 0.6235 - accuracy: 1.0000\n",
      "Test Loss: 0.623497724533081, Test Accuracy: 1.0\n",
      "1/1 [==============================] - 1s 1s/step\n",
      "TFSequenceClassifierOutput(loss=None, logits=array([[-0.2305783 ,  0.07978666]], dtype=float32), hidden_states=None, attentions=None)\n"
     ]
    }
   ],
   "execution_count": 4
  },
  {
   "metadata": {
    "ExecuteTime": {
     "end_time": "2025-04-05T11:00:32.583143Z",
     "start_time": "2025-04-05T11:00:32.581625Z"
    }
   },
   "cell_type": "code",
   "source": "",
   "id": "5b25b8f819569d37",
   "outputs": [],
   "execution_count": null
  },
  {
   "metadata": {
    "ExecuteTime": {
     "end_time": "2025-04-05T11:00:32.627392Z",
     "start_time": "2025-04-05T11:00:32.625565Z"
    }
   },
   "cell_type": "code",
   "source": "",
   "id": "21b91fa0d15e95a6",
   "outputs": [],
   "execution_count": null
  }
 ],
 "metadata": {
  "kernelspec": {
   "display_name": "Python 3",
   "language": "python",
   "name": "python3"
  },
  "language_info": {
   "codemirror_mode": {
    "name": "ipython",
    "version": 2
   },
   "file_extension": ".py",
   "mimetype": "text/x-python",
   "name": "python",
   "nbconvert_exporter": "python",
   "pygments_lexer": "ipython2",
   "version": "2.7.6"
  }
 },
 "nbformat": 4,
 "nbformat_minor": 5
}
